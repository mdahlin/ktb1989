{
 "cells": [
  {
   "cell_type": "markdown",
   "metadata": {},
   "source": [
    "# Using the ktb1989.py script\n",
    "\n",
    "The ktb1989 script contains some utlity functions such as `trace()` and `isPosDef()`, but the main function from this script is `makePosDef()` which applies the algorithm."
   ]
  },
  {
   "cell_type": "code",
   "execution_count": 1,
   "metadata": {},
   "outputs": [],
   "source": [
    "import ktb1989\n",
    "import numpy as np  # for example number 2\n",
    "import pandas as pd  # for example number 2\n",
    "np.set_printoptions(3, suppress=True, linewidth=100)\n",
    "pd.set_option('display.float_format', lambda x: '%.3f' % x)"
   ]
  },
  {
   "cell_type": "markdown",
   "metadata": {},
   "source": [
    "## Example 1: Paper Example\n",
    "\n",
    "This first example uses the matrix from the paper. The starting matrix is not positive definite."
   ]
  },
  {
   "cell_type": "code",
   "execution_count": 2,
   "metadata": {},
   "outputs": [
    {
     "name": "stdout",
     "output_type": "stream",
     "text": [
      "is matrix positive definite?: False\n"
     ]
    },
    {
     "data": {
      "text/plain": [
       "array([[1.   , 0.477, 0.644, 0.478, 0.651, 0.826],\n",
       "       [0.477, 1.   , 0.516, 0.233, 0.682, 0.75 ],\n",
       "       [0.644, 0.516, 1.   , 0.599, 0.581, 0.742],\n",
       "       [0.478, 0.233, 0.599, 1.   , 0.741, 0.8  ],\n",
       "       [0.651, 0.682, 0.581, 0.741, 1.   , 0.789],\n",
       "       [0.826, 0.75 , 0.742, 0.8  , 0.798, 1.   ]])"
      ]
     },
     "execution_count": 2,
     "metadata": {},
     "output_type": "execute_result"
    }
   ],
   "source": [
    "# example matrix provided\n",
    "R = np.array(\n",
    "    [[1.000, 0.477, 0.644, 0.478, 0.651, 0.826],\n",
    "     [0.477, 1.000, 0.516, 0.233, 0.682, 0.750],\n",
    "     [0.644, 0.516, 1.000, 0.599, 0.581, 0.742],\n",
    "     [0.478, 0.233, 0.599, 1.000, 0.741, 0.800],\n",
    "     [0.651, 0.682, 0.581, 0.741, 1.000, 0.789],\n",
    "     [0.826, 0.750, 0.742, 0.800, 0.798, 1.000]])\n",
    "print(f\"is matrix positive definite?: {ktb1989.isPosDef(R)}\")\n",
    "R"
   ]
  },
  {
   "cell_type": "markdown",
   "metadata": {},
   "source": [
    "To apply the algorithm, use the `makePosDef()` function with the first parameter being the matrix you want to make positive definite and the second parameter (*n*) being an integer greater than 0 specifying the top left *n* x *n* area to not be adjusted during the proccess."
   ]
  },
  {
   "cell_type": "code",
   "execution_count": 3,
   "metadata": {},
   "outputs": [
    {
     "name": "stdout",
     "output_type": "stream",
     "text": [
      "is matrix positive definite?: True\n"
     ]
    },
    {
     "data": {
      "text/plain": [
       "array([[1.   , 0.477, 0.644, 0.478, 0.642, 0.803],\n",
       "       [0.477, 1.   , 0.516, 0.233, 0.67 , 0.718],\n",
       "       [0.644, 0.516, 1.   , 0.599, 0.583, 0.746],\n",
       "       [0.478, 0.233, 0.599, 1.   , 0.727, 0.763],\n",
       "       [0.642, 0.67 , 0.583, 0.727, 1.   , 0.813],\n",
       "       [0.803, 0.718, 0.746, 0.763, 0.813, 1.   ]])"
      ]
     },
     "execution_count": 3,
     "metadata": {},
     "output_type": "execute_result"
    }
   ],
   "source": [
    "G = ktb1989.makePosDef(R, n=4)\n",
    "print(f\"is matrix positive definite?: {ktb1989.isPosDef(G)}\")\n",
    "G"
   ]
  },
  {
   "cell_type": "markdown",
   "metadata": {},
   "source": [
    "Comparing results to the paper, metrics do not exactly match (possibly becuase of the algorithm used), but the matrix is in fact non negative definite.\n",
    "\n",
    "Note how the residuals of the top left 4x4 are 0."
   ]
  },
  {
   "cell_type": "code",
   "execution_count": 4,
   "metadata": {},
   "outputs": [
    {
     "name": "stdout",
     "output_type": "stream",
     "text": [
      "e(G): 0.003663688995357246\n"
     ]
    },
    {
     "data": {
      "text/plain": [
       "array([[ 0.   ,  0.   ,  0.   ,  0.   , -0.009, -0.023],\n",
       "       [ 0.   ,  0.   ,  0.   ,  0.   , -0.012, -0.032],\n",
       "       [ 0.   ,  0.   ,  0.   ,  0.   ,  0.002,  0.004],\n",
       "       [ 0.   ,  0.   ,  0.   ,  0.   , -0.014, -0.037],\n",
       "       [-0.009, -0.012,  0.002, -0.014,  0.   ,  0.024],\n",
       "       [-0.023, -0.032,  0.004, -0.037,  0.015,  0.   ]])"
      ]
     },
     "execution_count": 4,
     "metadata": {},
     "output_type": "execute_result"
    }
   ],
   "source": [
    "print(f\"e(G): {0.5 * ktb1989.trace(np.matmul(G-R, G-R))}\")\n",
    "G - R"
   ]
  },
  {
   "cell_type": "markdown",
   "metadata": {},
   "source": [
    "## Example 2: Reordering the matrix\n",
    "\n",
    "This example goes through a potential way to apply the function when the correlation factors you want to preserve are not already in correct spot. This example is a bit clunky, so it might be good to implement some funcationality in the future."
   ]
  },
  {
   "cell_type": "code",
   "execution_count": 5,
   "metadata": {},
   "outputs": [
    {
     "name": "stdout",
     "output_type": "stream",
     "text": [
      "is matrix positive definite?: False\n"
     ]
    },
    {
     "data": {
      "text/html": [
       "<div>\n",
       "<style scoped>\n",
       "    .dataframe tbody tr th:only-of-type {\n",
       "        vertical-align: middle;\n",
       "    }\n",
       "\n",
       "    .dataframe tbody tr th {\n",
       "        vertical-align: top;\n",
       "    }\n",
       "\n",
       "    .dataframe thead th {\n",
       "        text-align: right;\n",
       "    }\n",
       "</style>\n",
       "<table border=\"1\" class=\"dataframe\">\n",
       "  <thead>\n",
       "    <tr style=\"text-align: right;\">\n",
       "      <th></th>\n",
       "      <th>A</th>\n",
       "      <th>B</th>\n",
       "      <th>C</th>\n",
       "      <th>D</th>\n",
       "      <th>E</th>\n",
       "    </tr>\n",
       "  </thead>\n",
       "  <tbody>\n",
       "    <tr>\n",
       "      <th>A</th>\n",
       "      <td>1.000</td>\n",
       "      <td>0.900</td>\n",
       "      <td>-0.800</td>\n",
       "      <td>-0.100</td>\n",
       "      <td>0.000</td>\n",
       "    </tr>\n",
       "    <tr>\n",
       "      <th>B</th>\n",
       "      <td>0.900</td>\n",
       "      <td>1.000</td>\n",
       "      <td>-0.100</td>\n",
       "      <td>0.800</td>\n",
       "      <td>0.500</td>\n",
       "    </tr>\n",
       "    <tr>\n",
       "      <th>C</th>\n",
       "      <td>-0.800</td>\n",
       "      <td>-0.100</td>\n",
       "      <td>1.000</td>\n",
       "      <td>0.500</td>\n",
       "      <td>0.600</td>\n",
       "    </tr>\n",
       "    <tr>\n",
       "      <th>D</th>\n",
       "      <td>-0.100</td>\n",
       "      <td>0.800</td>\n",
       "      <td>0.500</td>\n",
       "      <td>1.000</td>\n",
       "      <td>0.700</td>\n",
       "    </tr>\n",
       "    <tr>\n",
       "      <th>E</th>\n",
       "      <td>0.000</td>\n",
       "      <td>0.500</td>\n",
       "      <td>0.600</td>\n",
       "      <td>0.700</td>\n",
       "      <td>1.000</td>\n",
       "    </tr>\n",
       "  </tbody>\n",
       "</table>\n",
       "</div>"
      ],
      "text/plain": [
       "       A      B      C      D     E\n",
       "A  1.000  0.900 -0.800 -0.100 0.000\n",
       "B  0.900  1.000 -0.100  0.800 0.500\n",
       "C -0.800 -0.100  1.000  0.500 0.600\n",
       "D -0.100  0.800  0.500  1.000 0.700\n",
       "E  0.000  0.500  0.600  0.700 1.000"
      ]
     },
     "execution_count": 5,
     "metadata": {},
     "output_type": "execute_result"
    }
   ],
   "source": [
    "data = {'A': [1,2,3,4,5],\n",
    "        'B': [2,4,1,3,5],\n",
    "        'C': [4,5,3,1,2],\n",
    "        'D': [3,5,1,2,4],\n",
    "        'E': [2,5,3,1,4]}\n",
    "\n",
    "R = pd.DataFrame(data,columns=['A','B','C', 'D', 'E']).corr()\n",
    "R.iloc[0, 1] = R.iloc[1, 0] = 0.9  # make non-psd\n",
    "print(f\"is matrix positive definite?: {ktb1989.isPosDef(R)}\")\n",
    "R"
   ]
  },
  {
   "cell_type": "code",
   "execution_count": 6,
   "metadata": {},
   "outputs": [
    {
     "name": "stdout",
     "output_type": "stream",
     "text": [
      "is matrix positive definite?: True\n"
     ]
    },
    {
     "data": {
      "text/html": [
       "<div>\n",
       "<style scoped>\n",
       "    .dataframe tbody tr th:only-of-type {\n",
       "        vertical-align: middle;\n",
       "    }\n",
       "\n",
       "    .dataframe tbody tr th {\n",
       "        vertical-align: top;\n",
       "    }\n",
       "\n",
       "    .dataframe thead th {\n",
       "        text-align: right;\n",
       "    }\n",
       "</style>\n",
       "<table border=\"1\" class=\"dataframe\">\n",
       "  <thead>\n",
       "    <tr style=\"text-align: right;\">\n",
       "      <th></th>\n",
       "      <th>A</th>\n",
       "      <th>B</th>\n",
       "      <th>C</th>\n",
       "      <th>D</th>\n",
       "      <th>E</th>\n",
       "    </tr>\n",
       "  </thead>\n",
       "  <tbody>\n",
       "    <tr>\n",
       "      <th>A</th>\n",
       "      <td>1.000</td>\n",
       "      <td>0.723</td>\n",
       "      <td>-0.754</td>\n",
       "      <td>0.002</td>\n",
       "      <td>-0.008</td>\n",
       "    </tr>\n",
       "    <tr>\n",
       "      <th>B</th>\n",
       "      <td>0.723</td>\n",
       "      <td>1.000</td>\n",
       "      <td>-0.151</td>\n",
       "      <td>0.688</td>\n",
       "      <td>0.508</td>\n",
       "    </tr>\n",
       "    <tr>\n",
       "      <th>C</th>\n",
       "      <td>-0.754</td>\n",
       "      <td>-0.151</td>\n",
       "      <td>1.000</td>\n",
       "      <td>0.529</td>\n",
       "      <td>0.600</td>\n",
       "    </tr>\n",
       "    <tr>\n",
       "      <th>D</th>\n",
       "      <td>0.002</td>\n",
       "      <td>0.688</td>\n",
       "      <td>0.529</td>\n",
       "      <td>1.000</td>\n",
       "      <td>0.695</td>\n",
       "    </tr>\n",
       "    <tr>\n",
       "      <th>E</th>\n",
       "      <td>-0.008</td>\n",
       "      <td>0.508</td>\n",
       "      <td>0.600</td>\n",
       "      <td>0.695</td>\n",
       "      <td>1.000</td>\n",
       "    </tr>\n",
       "  </tbody>\n",
       "</table>\n",
       "</div>"
      ],
      "text/plain": [
       "       A      B      C     D      E\n",
       "A  1.000  0.723 -0.754 0.002 -0.008\n",
       "B  0.723  1.000 -0.151 0.688  0.508\n",
       "C -0.754 -0.151  1.000 0.529  0.600\n",
       "D  0.002  0.688  0.529 1.000  0.695\n",
       "E -0.008  0.508  0.600 0.695  1.000"
      ]
     },
     "execution_count": 6,
     "metadata": {},
     "output_type": "execute_result"
    }
   ],
   "source": [
    "origIdx = R.columns\n",
    "# reorder to preserve correlation factors between C and E\n",
    "presIdx = ['C', 'E', 'A', 'B', 'D']  \n",
    "tmpR = R.copy().loc[presIdx, presIdx]\n",
    "tmpR = tmpR.to_numpy()\n",
    "tmpG = ktb1989.makePosDef(tmpR, 2)  # n=2 for C and E\n",
    "# convert back to dataframe and return to the original order\n",
    "tmpG = pd.DataFrame(tmpG)\n",
    "tmpG.index = tmpG.columns = presIdx\n",
    "G = tmpG.loc[origIdx, origIdx]\n",
    "print(f\"is matrix positive definite?: {ktb1989.isPosDef(G)}\")\n",
    "G"
   ]
  },
  {
   "cell_type": "markdown",
   "metadata": {},
   "source": [
    "Note how the C vs E correlation factors residuals are 0"
   ]
  },
  {
   "cell_type": "code",
   "execution_count": 7,
   "metadata": {},
   "outputs": [
    {
     "data": {
      "text/html": [
       "<div>\n",
       "<style scoped>\n",
       "    .dataframe tbody tr th:only-of-type {\n",
       "        vertical-align: middle;\n",
       "    }\n",
       "\n",
       "    .dataframe tbody tr th {\n",
       "        vertical-align: top;\n",
       "    }\n",
       "\n",
       "    .dataframe thead th {\n",
       "        text-align: right;\n",
       "    }\n",
       "</style>\n",
       "<table border=\"1\" class=\"dataframe\">\n",
       "  <thead>\n",
       "    <tr style=\"text-align: right;\">\n",
       "      <th></th>\n",
       "      <th>A</th>\n",
       "      <th>B</th>\n",
       "      <th>C</th>\n",
       "      <th>D</th>\n",
       "      <th>E</th>\n",
       "    </tr>\n",
       "  </thead>\n",
       "  <tbody>\n",
       "    <tr>\n",
       "      <th>A</th>\n",
       "      <td>0.000</td>\n",
       "      <td>-0.177</td>\n",
       "      <td>0.046</td>\n",
       "      <td>0.102</td>\n",
       "      <td>-0.008</td>\n",
       "    </tr>\n",
       "    <tr>\n",
       "      <th>B</th>\n",
       "      <td>-0.177</td>\n",
       "      <td>0.000</td>\n",
       "      <td>-0.051</td>\n",
       "      <td>-0.112</td>\n",
       "      <td>0.008</td>\n",
       "    </tr>\n",
       "    <tr>\n",
       "      <th>C</th>\n",
       "      <td>0.046</td>\n",
       "      <td>-0.051</td>\n",
       "      <td>0.000</td>\n",
       "      <td>0.029</td>\n",
       "      <td>0.000</td>\n",
       "    </tr>\n",
       "    <tr>\n",
       "      <th>D</th>\n",
       "      <td>0.102</td>\n",
       "      <td>-0.112</td>\n",
       "      <td>0.029</td>\n",
       "      <td>0.000</td>\n",
       "      <td>-0.005</td>\n",
       "    </tr>\n",
       "    <tr>\n",
       "      <th>E</th>\n",
       "      <td>-0.008</td>\n",
       "      <td>0.008</td>\n",
       "      <td>0.000</td>\n",
       "      <td>-0.005</td>\n",
       "      <td>-0.000</td>\n",
       "    </tr>\n",
       "  </tbody>\n",
       "</table>\n",
       "</div>"
      ],
      "text/plain": [
       "       A      B      C      D      E\n",
       "A  0.000 -0.177  0.046  0.102 -0.008\n",
       "B -0.177  0.000 -0.051 -0.112  0.008\n",
       "C  0.046 -0.051  0.000  0.029  0.000\n",
       "D  0.102 -0.112  0.029  0.000 -0.005\n",
       "E -0.008  0.008  0.000 -0.005 -0.000"
      ]
     },
     "execution_count": 7,
     "metadata": {},
     "output_type": "execute_result"
    }
   ],
   "source": [
    "G - R  # residuals"
   ]
  }
 ],
 "metadata": {
  "kernelspec": {
   "display_name": "Python 3",
   "language": "python",
   "name": "python3"
  },
  "language_info": {
   "codemirror_mode": {
    "name": "ipython",
    "version": 3
   },
   "file_extension": ".py",
   "mimetype": "text/x-python",
   "name": "python",
   "nbconvert_exporter": "python",
   "pygments_lexer": "ipython3",
   "version": "3.9.1"
  }
 },
 "nbformat": 4,
 "nbformat_minor": 4
}
